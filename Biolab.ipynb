{
  "cells": [
    {
      "cell_type": "code",
      "execution_count": 2,
      "metadata": {
        "colab": {
          "base_uri": "https://localhost:8080/"
        },
        "id": "6_Q9wIMdNWqv",
        "outputId": "0256a859-3520-4dc7-9127-75b02afc96d2"
      },
      "outputs": [
        {
          "name": "stdout",
          "output_type": "stream",
          "text": [
            "Most frequent k-mer: [('GCT', 4)]\n"
          ]
        }
      ],
      "source": [
        "from collections import Counter\n",
        "\n",
        "def find_frequent_kmer(dna_string, k):\n",
        "\n",
        "    k_mers = [dna_string[i:i+k] for i in range(len(dna_string) - k + 1)]\n",
        "\n",
        "    k_mer_count = Counter(k_mers)\n",
        "\n",
        "    most_frequent = k_mer_count.most_common(1)\n",
        "\n",
        "    return most_frequent\n",
        "\n",
        "dna = \"AGCTAGCTAGCTAGGCTA\"\n",
        "k = 3\n",
        "most_frequent_kmer = find_frequent_kmer(dna, k)\n",
        "print(\"Most frequent k-mer:\", most_frequent_kmer)\n"
      ]
    },
    {
      "cell_type": "code",
      "execution_count": 6,
      "metadata": {
        "colab": {
          "base_uri": "https://localhost:8080/"
        },
        "id": "JRq_aqlVOGnk",
        "outputId": "f8ffe07c-c255-4f55-8126-bf1b1de446e6"
      },
      "outputs": [
        {
          "name": "stdout",
          "output_type": "stream",
          "text": [
            "Hamiltonian path found: ['ATT', 'TTA', 'TAC', 'ACC', 'CCA', 'CAC']\n",
            "Reconstructed string: ATTACCAC\n"
          ]
        }
      ],
      "source": [
        "from collections import defaultdict, deque\n",
        "\n",
        "def build_overlap_graph(kmers):\n",
        "    graph = defaultdict(list)\n",
        "\n",
        "    for kmer in kmers:\n",
        "        prefix = kmer[:-1]\n",
        "        suffix = kmer[1:]\n",
        "\n",
        "\n",
        "        for other in kmers:\n",
        "            if kmer != other and kmer[1:] == other[:-1]:\n",
        "                graph[kmer].append(other)\n",
        "\n",
        "    return graph\n",
        "\n",
        "# Function to find a Hamiltonian path using depth-first search (DFS)\n",
        "def find_hamiltonian_path(graph, start_node, visited, path):\n",
        "    visited.add(start_node)\n",
        "    path.append(start_node)\n",
        "\n",
        "    if len(visited) == len(graph):\n",
        "        return True\n",
        "\n",
        "    for neighbor in graph[start_node]:\n",
        "        if neighbor not in visited:\n",
        "            if find_hamiltonian_path(graph, neighbor, visited, path):\n",
        "                return True\n",
        "\n",
        "    path.pop()\n",
        "    visited.remove(start_node)\n",
        "    return False\n",
        "\n",
        "# Function to reconstruct the string from the Hamiltonian path\n",
        "def reconstruct_from_path(path):\n",
        "    # Start with the first k-mer\n",
        "    reconstructed_string = path[0]\n",
        "\n",
        "    # Append only the last character of each subsequent k-mer\n",
        "    for kmer in path[1:]:\n",
        "        reconstructed_string += kmer[-1]\n",
        "\n",
        "    return reconstructed_string\n",
        "kmers = [\"ATT\", \"TTA\", \"TAC\", \"ACC\", \"CCA\", \"CAC\"]\n",
        "\n",
        "graph = build_overlap_graph(kmers)\n",
        "\n",
        "# Find the Hamiltonian path\n",
        "start_node = kmers[0]  # Start from the first k-mer\n",
        "path = []\n",
        "visited = set()\n",
        "\n",
        "if find_hamiltonian_path(graph, start_node, visited, path):\n",
        "    print(\"Hamiltonian path found:\", path)\n",
        "\n",
        "    # Reconstruct the original sequence from the path\n",
        "    reconstructed_string = reconstruct_from_path(path)\n",
        "    print(\"Reconstructed string:\", reconstructed_string)\n",
        "else:\n",
        "    print(\"No Hamiltonian path found.\")\n"
      ]
    },
    {
      "cell_type": "code",
      "execution_count": 7,
      "metadata": {
        "colab": {
          "base_uri": "https://localhost:8080/"
        },
        "id": "GAjuGHFTOUHh",
        "outputId": "64d0369e-d1c6-4ef0-e0ba-ec2986c0e79a"
      },
      "outputs": [
        {
          "name": "stdout",
          "output_type": "stream",
          "text": [
            "De Bruijn Graph:\n",
            "AT -> TT\n",
            "TT -> TA\n",
            "TA -> AC\n",
            "AC -> CC\n",
            "CC -> CA\n",
            "CA -> AC\n"
          ]
        }
      ],
      "source": [
        "from collections import defaultdict\n",
        "\n",
        "# Function to construct the de Bruijn graph from k-mers\n",
        "def de_bruijn_graph(kmers):\n",
        "    graph = defaultdict(list)\n",
        "\n",
        "    for kmer in kmers:\n",
        "        prefix = kmer[:-1]  # Prefix of length k-1\n",
        "        suffix = kmer[1:]   # Suffix of length k-1\n",
        "        graph[prefix].append(suffix)\n",
        "\n",
        "    return graph\n",
        "\n",
        "# Function to print the de Bruijn graph\n",
        "def print_de_bruijn_graph(graph):\n",
        "    for prefix, suffixes in graph.items():\n",
        "        for suffix in suffixes:\n",
        "            print(f\"{prefix} -> {suffix}\")\n",
        "\n",
        "# Example usage\n",
        "kmers = [\"ATT\", \"TTA\", \"TAC\", \"ACC\", \"CCA\", \"CAC\"]\n",
        "\n",
        "# Build the de Bruijn graph\n",
        "graph = de_bruijn_graph(kmers)\n",
        "\n",
        "# Print the graph\n",
        "print(\"De Bruijn Graph:\")\n",
        "print_de_bruijn_graph(graph)\n"
      ]
    },
    {
      "cell_type": "code",
      "execution_count": 8,
      "metadata": {
        "colab": {
          "base_uri": "https://localhost:8080/"
        },
        "id": "5DKz-dCaOXYY",
        "outputId": "a61dac64-eec8-4a5f-9401-c849793fd831"
      },
      "outputs": [
        {
          "name": "stdout",
          "output_type": "stream",
          "text": [
            "Cyclic peptides found:\n",
            "IKW\n",
            "IQW\n",
            "IWK\n",
            "IWQ\n",
            "LKW\n",
            "LQW\n",
            "LWK\n",
            "LWQ\n",
            "KIW\n",
            "KLW\n",
            "KWI\n",
            "KWL\n",
            "QIW\n",
            "QLW\n",
            "QWI\n",
            "QWL\n",
            "WIK\n",
            "WIQ\n",
            "WLK\n",
            "WLQ\n",
            "WKI\n",
            "WKL\n",
            "WQI\n",
            "WQL\n"
          ]
        }
      ],
      "source": [
        "# Dictionary of amino acid masses\n",
        "amino_acid_masses = {\n",
        "    'G': 57, 'A': 71, 'S': 87, 'P': 97, 'V': 99,\n",
        "    'T': 101, 'C': 103, 'I': 113, 'L': 113, 'N': 114,\n",
        "    'D': 115, 'K': 128, 'Q': 128, 'E': 129, 'M': 131,\n",
        "    'H': 137, 'F': 147, 'R': 156, 'Y': 163, 'W': 186\n",
        "}\n",
        "\n",
        "def linear_spectrum(peptide):\n",
        "    \"\"\"Calculate the linear spectrum (prefix masses) of a peptide.\"\"\"\n",
        "    prefix_mass = [0]  # starting mass is 0\n",
        "    for i in range(len(peptide)):\n",
        "        prefix_mass.append(prefix_mass[i] + amino_acid_masses[peptide[i]])\n",
        "\n",
        "    spectrum = [0]\n",
        "    for i in range(len(prefix_mass)):\n",
        "        for j in range(i+1, len(prefix_mass)):\n",
        "            spectrum.append(prefix_mass[j] - prefix_mass[i])\n",
        "\n",
        "    return sorted(spectrum)\n",
        "\n",
        "def cyclic_spectrum(peptide):\n",
        "    \"\"\"Calculate the cyclic spectrum of a cyclic peptide.\"\"\"\n",
        "    n = len(peptide)\n",
        "    prefix_mass = [0] * (n + 1)\n",
        "    for i in range(n):\n",
        "        prefix_mass[i+1] = prefix_mass[i] + amino_acid_masses[peptide[i]]\n",
        "\n",
        "    peptide_mass = prefix_mass[n]\n",
        "    spectrum = [0]\n",
        "\n",
        "    # Calculate subpeptide masses\n",
        "    for i in range(n):\n",
        "        for j in range(i + 1, n + 1):\n",
        "            spectrum.append(prefix_mass[j] - prefix_mass[i])\n",
        "            if i > 0 and j < n:\n",
        "                spectrum.append(peptide_mass - (prefix_mass[j] - prefix_mass[i]))\n",
        "\n",
        "    return sorted(spectrum)\n",
        "\n",
        "def is_consistent(peptide, spectrum):\n",
        "    \"\"\"Check if the linear spectrum of the peptide is consistent with the given spectrum.\"\"\"\n",
        "    peptide_spectrum = linear_spectrum(peptide)\n",
        "    peptide_spectrum_counts = {x: peptide_spectrum.count(x) for x in peptide_spectrum}\n",
        "    spectrum_counts = {x: spectrum.count(x) for x in spectrum}\n",
        "\n",
        "    for mass in peptide_spectrum_counts:\n",
        "        if peptide_spectrum_counts[mass] > spectrum_counts.get(mass, 0):\n",
        "            return False\n",
        "    return True\n",
        "\n",
        "def branch_and_bound_cyclopeptide_sequencing(spectrum):\n",
        "    \"\"\"Branch and Bound method for cyclopeptide sequencing.\"\"\"\n",
        "    candidate_peptides = [[]]  # Start with an empty peptide\n",
        "    final_peptides = []\n",
        "\n",
        "    parent_mass = max(spectrum)\n",
        "\n",
        "    while candidate_peptides:\n",
        "        # Expand peptides by adding one more amino acid to each candidate\n",
        "        candidate_peptides = [peptide + [aa] for peptide in candidate_peptides for aa in amino_acid_masses]\n",
        "\n",
        "        # Copy list to avoid modification while iterating\n",
        "        for peptide in candidate_peptides[:]:\n",
        "            peptide_mass = sum(amino_acid_masses[aa] for aa in peptide)\n",
        "\n",
        "            if peptide_mass == parent_mass:\n",
        "                # If the mass matches, check the cyclic spectrum\n",
        "                if cyclic_spectrum(peptide) == spectrum:\n",
        "                    final_peptides.append(peptide)\n",
        "                candidate_peptides.remove(peptide)\n",
        "            elif peptide_mass > parent_mass or not is_consistent(peptide, spectrum):\n",
        "                # Prune the peptide if its mass exceeds or it's inconsistent with the spectrum\n",
        "                candidate_peptides.remove(peptide)\n",
        "\n",
        "    return final_peptides\n",
        "\n",
        "def convert_to_string(peptide):\n",
        "    \"\"\"Convert the peptide list back to a string of amino acids.\"\"\"\n",
        "    return ''.join(peptide)\n",
        "\n",
        "# Example usage\n",
        "spectrum = [0, 113, 128, 186, 241, 299, 314, 427]\n",
        "result = branch_and_bound_cyclopeptide_sequencing(spectrum)\n",
        "\n",
        "# Print the found cyclic peptides\n",
        "print(\"Cyclic peptides found:\")\n",
        "for peptide in result:\n",
        "    print(convert_to_string(peptide))\n"
      ]
    },
    {
      "cell_type": "code",
      "execution_count": 9,
      "metadata": {
        "colab": {
          "base_uri": "https://localhost:8080/"
        },
        "id": "gy_nsSzwQGgX",
        "outputId": "36981668-04ba-4a52-f488-85ea1d8cf963"
      },
      "outputs": [
        {
          "name": "stdout",
          "output_type": "stream",
          "text": [
            "Requirement already satisfied: biopython in c:\\users\\rohitrohan\\appdata\\local\\programs\\python\\python311\\lib\\site-packages (1.85)Note: you may need to restart the kernel to use updated packages.\n",
            "\n",
            "Requirement already satisfied: numpy in c:\\users\\rohitrohan\\appdata\\local\\programs\\python\\python311\\lib\\site-packages (from biopython) (1.26.4)\n"
          ]
        }
      ],
      "source": [
        "%pip install biopython "
      ]
    },
    {
      "cell_type": "code",
      "execution_count": 10,
      "metadata": {
        "colab": {
          "base_uri": "https://localhost:8080/"
        },
        "id": "_HAUqZgvP27c",
        "outputId": "50a06926-7b60-461c-b0ae-20b09c57b2bf"
      },
      "outputs": [
        {
          "ename": "KeyboardInterrupt",
          "evalue": "",
          "output_type": "error",
          "traceback": [
            "\u001b[1;31m---------------------------------------------------------------------------\u001b[0m",
            "\u001b[1;31mKeyboardInterrupt\u001b[0m                         Traceback (most recent call last)",
            "Cell \u001b[1;32mIn[10], line 17\u001b[0m\n\u001b[0;32m     14\u001b[0m             \u001b[38;5;28mprint\u001b[39m(\u001b[38;5;124m\"\u001b[39m\u001b[38;5;124mE-value:\u001b[39m\u001b[38;5;124m\"\u001b[39m, hsp\u001b[38;5;241m.\u001b[39mexpect)\n\u001b[0;32m     16\u001b[0m query_seq \u001b[38;5;241m=\u001b[39m \u001b[38;5;124m\"\u001b[39m\u001b[38;5;124mATGCGTACGTAGCTAGCTGACTGATCGTAGCTAGCTGACGTAGCTAGCATCGTACG\u001b[39m\u001b[38;5;124m\"\u001b[39m\n\u001b[1;32m---> 17\u001b[0m \u001b[43mblast_sequence\u001b[49m\u001b[43m(\u001b[49m\u001b[43mquery_seq\u001b[49m\u001b[43m)\u001b[49m\n",
            "Cell \u001b[1;32mIn[10], line 5\u001b[0m, in \u001b[0;36mblast_sequence\u001b[1;34m(seq)\u001b[0m\n\u001b[0;32m      4\u001b[0m \u001b[38;5;28;01mdef\u001b[39;00m \u001b[38;5;21mblast_sequence\u001b[39m(seq):\n\u001b[1;32m----> 5\u001b[0m     result_handle \u001b[38;5;241m=\u001b[39m \u001b[43mNCBIWWW\u001b[49m\u001b[38;5;241;43m.\u001b[39;49m\u001b[43mqblast\u001b[49m\u001b[43m(\u001b[49m\u001b[38;5;124;43m\"\u001b[39;49m\u001b[38;5;124;43mblastn\u001b[39;49m\u001b[38;5;124;43m\"\u001b[39;49m\u001b[43m,\u001b[49m\u001b[43m \u001b[49m\u001b[38;5;124;43m\"\u001b[39;49m\u001b[38;5;124;43mnt\u001b[39;49m\u001b[38;5;124;43m\"\u001b[39;49m\u001b[43m,\u001b[49m\u001b[43m \u001b[49m\u001b[43mseq\u001b[49m\u001b[43m)\u001b[49m\n\u001b[0;32m      6\u001b[0m     blast_record \u001b[38;5;241m=\u001b[39m NCBIXML\u001b[38;5;241m.\u001b[39mread(result_handle)\n\u001b[0;32m      8\u001b[0m     \u001b[38;5;28;01mfor\u001b[39;00m alignment \u001b[38;5;129;01min\u001b[39;00m blast_record\u001b[38;5;241m.\u001b[39malignments:\n",
            "File \u001b[1;32mc:\\Users\\RohitRohan\\AppData\\Local\\Programs\\Python\\Python311\\Lib\\site-packages\\Bio\\Blast\\NCBIWWW.py:264\u001b[0m, in \u001b[0;36mqblast\u001b[1;34m(program, database, sequence, url_base, auto_format, composition_based_statistics, db_genetic_code, endpoints, entrez_query, expect, filter, gapcosts, genetic_code, hitlist_size, i_thresh, layout, lcase_mask, matrix_name, nucl_penalty, nucl_reward, other_advanced, perc_ident, phi_pattern, query_file, query_believe_defline, query_from, query_to, searchsp_eff, service, threshold, ungapped_alignment, word_size, short_query, alignments, alignment_view, descriptions, entrez_links_new_window, expect_low, expect_high, format_entrez_query, format_object, format_type, ncbi_gi, results_file, show_overview, megablast, template_type, template_length, username, password)\u001b[0m\n\u001b[0;32m    262\u001b[0m wait \u001b[38;5;241m=\u001b[39m qblast\u001b[38;5;241m.\u001b[39mprevious \u001b[38;5;241m+\u001b[39m delay \u001b[38;5;241m-\u001b[39m current\n\u001b[0;32m    263\u001b[0m \u001b[38;5;28;01mif\u001b[39;00m wait \u001b[38;5;241m>\u001b[39m \u001b[38;5;241m0\u001b[39m:\n\u001b[1;32m--> 264\u001b[0m     \u001b[43mtime\u001b[49m\u001b[38;5;241;43m.\u001b[39;49m\u001b[43msleep\u001b[49m\u001b[43m(\u001b[49m\u001b[43mwait\u001b[49m\u001b[43m)\u001b[49m\n\u001b[0;32m    265\u001b[0m     qblast\u001b[38;5;241m.\u001b[39mprevious \u001b[38;5;241m=\u001b[39m current \u001b[38;5;241m+\u001b[39m wait\n\u001b[0;32m    266\u001b[0m \u001b[38;5;28;01melse\u001b[39;00m:\n",
            "\u001b[1;31mKeyboardInterrupt\u001b[0m: "
          ]
        }
      ],
      "source": [
        "from Bio.Blast import NCBIWWW\n",
        "from Bio.Blast import NCBIXML\n",
        "\n",
        "def blast_sequence(seq):\n",
        "    result_handle = NCBIWWW.qblast(\"blastn\", \"nt\", seq)\n",
        "    blast_record = NCBIXML.read(result_handle)\n",
        "\n",
        "    for alignment in blast_record.alignments:\n",
        "        for hsp in alignment.hsps:\n",
        "            print(\"*Alignment*\")\n",
        "            print(\"Sequence:\", alignment.title)\n",
        "            print(\"Length:\", alignment.length)\n",
        "            print(\"Score:\", hsp.score)\n",
        "            print(\"E-value:\", hsp.expect)\n",
        "\n",
        "query_seq = \"ATGCGTACGTAGCTAGCTGACTGATCGTAGCTAGCTGACGTAGCTAGCATCGTACG\"\n",
        "blast_sequence(query_seq)\n"
      ]
    },
    {
      "cell_type": "code",
      "execution_count": 11,
      "metadata": {
        "colab": {
          "base_uri": "https://localhost:8080/"
        },
        "id": "ls7C7Kk7POJh",
        "outputId": "537a4b27-e48d-4915-c656-963505ca09f4"
      },
      "outputs": [
        {
          "name": "stdout",
          "output_type": "stream",
          "text": [
            "Identified variants:\n",
            "SNP at position 5: A -> T\n",
            "SNP at position 6: C -> G\n",
            "Deletion at position 12: T deleted\n"
          ]
        }
      ],
      "source": [
        "def variant_calling(reference, sample):\n",
        "    variants = []\n",
        "    ref_len = len(reference)\n",
        "    sample_len = len(sample)\n",
        "    i = 0\n",
        "    j = 0\n",
        "\n",
        "    while i < ref_len and j < sample_len:\n",
        "        if reference[i] == sample[j]:\n",
        "            # Bases match, move to the next position\n",
        "            i += 1\n",
        "            j += 1\n",
        "        else:\n",
        "            # A variant has been detected\n",
        "            if reference[i] != sample[j]:\n",
        "                # SNP (Single Nucleotide Polymorphism)\n",
        "                variants.append({\n",
        "                    \"type\": \"SNP\",\n",
        "                    \"position\": i + 1,\n",
        "                    \"ref_base\": reference[i],\n",
        "                    \"sample_base\": sample[j]\n",
        "                })\n",
        "                i += 1\n",
        "                j += 1\n",
        "            elif i < ref_len and j < sample_len and reference[i] != sample[j]:\n",
        "                # Insertions/Deletions (indels)\n",
        "                if i + 1 < ref_len and reference[i + 1] == sample[j]:\n",
        "                    # Deletion in the sample\n",
        "                    variants.append({\n",
        "                        \"type\": \"Deletion\",\n",
        "                        \"position\": i + 1,\n",
        "                        \"deleted_base\": reference[i]\n",
        "                    })\n",
        "                    i += 1\n",
        "                elif j + 1 < sample_len and reference[i] == sample[j + 1]:\n",
        "                    # Insertion in the sample\n",
        "                    variants.append({\n",
        "                        \"type\": \"Insertion\",\n",
        "                        \"position\": i + 1,\n",
        "                        \"inserted_base\": sample[j]\n",
        "                    })\n",
        "                    j += 1\n",
        "\n",
        "    # Check for remaining insertions or deletions\n",
        "    if i < ref_len:\n",
        "        for k in range(i, ref_len):\n",
        "            variants.append({\n",
        "                \"type\": \"Deletion\",\n",
        "                \"position\": k + 1,\n",
        "                \"deleted_base\": reference[k]\n",
        "            })\n",
        "\n",
        "    if j < sample_len:\n",
        "        for k in range(j, sample_len):\n",
        "            variants.append({\n",
        "                \"type\": \"Insertion\",\n",
        "                \"position\": ref_len + k + 1,\n",
        "                \"inserted_base\": sample[k]\n",
        "            })\n",
        "\n",
        "    return variants\n",
        "\n",
        "\n",
        "# Example usage:\n",
        "reference_genome = \"ACGTACGTACGT\"\n",
        "sample_genome = \"ACGTTGGTACG\"\n",
        "\n",
        "# Call variants\n",
        "variants = variant_calling(reference_genome, sample_genome)\n",
        "\n",
        "# Print identified variants\n",
        "print(\"Identified variants:\")\n",
        "for variant in variants:\n",
        "    if variant[\"type\"] == \"SNP\":\n",
        "        print(f\"SNP at position {variant['position']}: {variant['ref_base']} -> {variant['sample_base']}\")\n",
        "    elif variant[\"type\"] == \"Insertion\":\n",
        "        print(f\"Insertion at position {variant['position']}: {variant['inserted_base']} inserted\")\n",
        "    elif variant[\"type\"] == \"Deletion\":\n",
        "        print(f\"Deletion at position {variant['position']}: {variant['deleted_base']} deleted\")\n"
      ]
    },
    {
      "cell_type": "code",
      "execution_count": 12,
      "metadata": {
        "colab": {
          "base_uri": "https://localhost:8080/",
          "height": 848
        },
        "id": "2TD7p4vINkyq",
        "outputId": "7ddb5786-2714-4209-b398-1c6b06d202b0"
      },
      "outputs": [
        {
          "data": {
            "image/png": "[encoded data removed]",
            "text/plain": [
              "<Figure size 1000x1000 with 1 Axes>"
            ]
          },
          "metadata": {},
          "output_type": "display_data"
        },
        {
          "name": "stdout",
          "output_type": "stream",
          "text": [
            "Alignment Score:\n",
            "Score = -3.0\n"
          ]
        }
      ],
      "source": [
        "import numpy as np\n",
        "import matplotlib.pyplot as plt\n",
        "\n",
        "def generate_dot_plot(seq1, seq2):\n",
        "    \"\"\"Generates a dot plot for two sequences.\"\"\"\n",
        "    n = len(seq1)\n",
        "    m = len(seq2)\n",
        "    dot_matrix = np.zeros((n, m))\n",
        "\n",
        "    # Fill the dot matrix\n",
        "    for i in range(n):\n",
        "        for j in range(m):\n",
        "            if seq1[i] == seq2[j]:\n",
        "                dot_matrix[i][j] = 1  # Mark a dot where sequences match\n",
        "\n",
        "    return dot_matrix\n",
        "\n",
        "def plot_dot_plot(dot_matrix, seq1, seq2):\n",
        "    \"\"\"Plots the dot plot using Matplotlib.\"\"\"\n",
        "    plt.figure(figsize=(10, 10))\n",
        "    plt.imshow(dot_matrix, cmap='Greys', interpolation='nearest')\n",
        "    plt.xticks(ticks=np.arange(len(seq2)), labels=list(seq2))\n",
        "    plt.yticks(ticks=np.arange(len(seq1)), labels=list(seq1))\n",
        "    plt.xlabel('Sequence 2')\n",
        "    plt.ylabel('Sequence 1')\n",
        "    plt.title('Dot Plot')\n",
        "    plt.show()\n",
        "\n",
        "def scoring_matrix(seq1, seq2, match=1, mismatch=-1, gap=-2):\n",
        "    \"\"\"Calculates the score of an alignment between two sequences.\"\"\"\n",
        "    n = len(seq1)\n",
        "    m = len(seq2)\n",
        "    score_matrix = np.zeros((n+1, m+1))\n",
        "\n",
        "    # Initialize the score matrix with gap penalties\n",
        "    for i in range(1, n+1):\n",
        "        score_matrix[i][0] = i * gap\n",
        "    for j in range(1, m+1):\n",
        "        score_matrix[0][j] = j * gap\n",
        "\n",
        "    # Fill the score matrix\n",
        "    for i in range(1, n+1):\n",
        "        for j in range(1, m+1):\n",
        "            if seq1[i-1] == seq2[j-1]:\n",
        "                score = match  # Match score\n",
        "            else:\n",
        "                score = mismatch  # Mismatch penalty\n",
        "\n",
        "            score_matrix[i][j] = max(\n",
        "                score_matrix[i-1][j-1] + score,  # Diagonal (match/mismatch)\n",
        "                score_matrix[i-1][j] + gap,      # Gap in seq2 (insertion)\n",
        "                score_matrix[i][j-1] + gap       # Gap in seq1 (deletion)\n",
        "            )\n",
        "\n",
        "    return score_matrix\n",
        "\n",
        "def print_alignment_score(score_matrix):\n",
        "    \"\"\"Prints the final alignment score.\"\"\"\n",
        "    print(\"Alignment Score:\")\n",
        "    print(f\"Score = {score_matrix[-1][-1]}\")\n",
        "\n",
        "# Bigger example usage\n",
        "seq1 = \"ACTGACCTGAC\"\n",
        "seq2 = \"AGTCCGACACTG\"\n",
        "\n",
        "# Generate the dot plot\n",
        "dot_matrix = generate_dot_plot(seq1, seq2)\n",
        "\n",
        "# Plot the dot plot\n",
        "plot_dot_plot(dot_matrix, seq1, seq2)\n",
        "\n",
        "# Generate the scoring matrix\n",
        "score_matrix = scoring_matrix(seq1, seq2)\n",
        "\n",
        "# Print the score\n",
        "print_alignment_score(score_matrix)\n",
        "\n"
      ]
    },
    {
      "cell_type": "code",
      "execution_count": 13,
      "metadata": {
        "colab": {
          "base_uri": "https://localhost:8080/"
        },
        "id": "D6vgzPvSPQ_o",
        "outputId": "d8923c7e-637f-49c0-ba70-6df7f5458267"
      },
      "outputs": [
        {
          "name": "stdout",
          "output_type": "stream",
          "text": [
            "Match/Mismatch score between 'AGCTTAGC' and 'AGCTCAGC': 6\n"
          ]
        }
      ],
      "source": [
        "def match_mismatch_score(seq1, seq2, match_score=1, mismatch_penalty=-1):\n",
        "    \"\"\"\n",
        "    Function to compute the match/mismatch score between two sequences.\n",
        "\n",
        "    Parameters:\n",
        "    - seq1: First sequence (string)\n",
        "    - seq2: Second sequence (string)\n",
        "    - match_score: Score for a match (default = 1)\n",
        "    - mismatch_penalty: Penalty for a mismatch (default = -1)\n",
        "\n",
        "    Returns:\n",
        "    - total_score: Total score based on match/mismatch\n",
        "    \"\"\"\n",
        "    if len(seq1) != len(seq2):\n",
        "        raise ValueError(\"Sequences must be of equal length\")\n",
        "\n",
        "    total_score = 0\n",
        "\n",
        "    # Compare each base pair in the aligned sequences\n",
        "    for base1, base2 in zip(seq1, seq2):\n",
        "        if base1 == base2:\n",
        "            total_score += match_score  # Match score\n",
        "        else:\n",
        "            total_score += mismatch_penalty  # Mismatch penalty\n",
        "\n",
        "    return total_score\n",
        "\n",
        "# Example usage\n",
        "seq1 = \"AGCTTAGC\"\n",
        "seq2 = \"AGCTCAGC\"\n",
        "\n",
        "# Calculate the match/mismatch score with default scoring scheme\n",
        "score = match_mismatch_score(seq1, seq2)\n",
        "\n",
        "print(f\"Match/Mismatch score between '{seq1}' and '{seq2}': {score}\")\n"
      ]
    },
    {
      "cell_type": "code",
      "execution_count": 14,
      "metadata": {
        "colab": {
          "base_uri": "https://localhost:8080/"
        },
        "id": "DIR3_XLpNnms",
        "outputId": "30aebde6-df40-4667-b136-170c6069b701"
      },
      "outputs": [
        {
          "name": "stdout",
          "output_type": "stream",
          "text": [
            "Score Matrix:\n",
            "[[ 0. -1. -2. -3. -4. -5. -6. -7.]\n",
            " [-1.  2.  1.  0. -1. -2. -3. -4.]\n",
            " [-2.  1.  1.  3.  2.  1.  0. -1.]\n",
            " [-3.  0.  0.  2.  5.  4.  3.  2.]\n",
            " [-4. -1. -1.  1.  4.  4.  3.  2.]\n",
            " [-5. -2. -2.  1.  3.  3.  3.  2.]\n",
            " [-6. -3.  0.  0.  2.  2.  5.  4.]\n",
            " [-7. -4. -1.  2.  1.  1.  4.  4.]]\n",
            "\n",
            "Alignment:\n",
            "G-ATTACA\n",
            "GCA-TGCU\n",
            "\n",
            "Final Alignment Score: 4.0\n"
          ]
        }
      ],
      "source": [
        "import numpy as np\n",
        "\n",
        "def needleman_wunsch(seq1, seq2, match_reward=2, mismatch_penalty=-1, gap_penalty=-1):\n",
        "    # Create a matrix to store the scores\n",
        "    n = len(seq1)\n",
        "    m = len(seq2)\n",
        "    score_matrix = np.zeros((n + 1, m + 1))\n",
        "\n",
        "    # Initialize the scoring matrix with gap penalties\n",
        "    for i in range(1, n + 1):\n",
        "        score_matrix[i][0] = i * gap_penalty\n",
        "    for j in range(1, m + 1):\n",
        "        score_matrix[0][j] = j * gap_penalty\n",
        "\n",
        "    # Fill the scoring matrix\n",
        "    for i in range(1, n + 1):\n",
        "        for j in range(1, m + 1):\n",
        "            match = score_matrix[i - 1][j - 1] + (match_reward if seq1[i - 1] == seq2[j - 1] else mismatch_penalty)\n",
        "            delete = score_matrix[i - 1][j] + gap_penalty\n",
        "            insert = score_matrix[i][j - 1] + gap_penalty\n",
        "            score_matrix[i][j] = max(match, delete, insert)\n",
        "\n",
        "    # Traceback to create the alignment\n",
        "    align1, align2 = '', ''\n",
        "    i, j = n, m\n",
        "\n",
        "    while i > 0 and j > 0:\n",
        "        score_current = score_matrix[i][j]\n",
        "        score_diagonal = score_matrix[i - 1][j - 1]\n",
        "        score_up = score_matrix[i - 1][j]\n",
        "        score_left = score_matrix[i][j - 1]\n",
        "\n",
        "        if score_current == score_diagonal + (match_reward if seq1[i - 1] == seq2[j - 1] else mismatch_penalty):\n",
        "            align1 += seq1[i - 1]\n",
        "            align2 += seq2[j - 1]\n",
        "            i -= 1\n",
        "            j -= 1\n",
        "        elif score_current == score_up + gap_penalty:\n",
        "            align1 += seq1[i - 1]\n",
        "            align2 += '-'\n",
        "            i -= 1\n",
        "        elif score_current == score_left + gap_penalty:\n",
        "            align1 += '-'\n",
        "            align2 += seq2[j - 1]\n",
        "            j -= 1\n",
        "\n",
        "    # Add remaining characters/gaps if needed\n",
        "    while i > 0:\n",
        "        align1 += seq1[i - 1]\n",
        "        align2 += '-'\n",
        "        i -= 1\n",
        "    while j > 0:\n",
        "        align1 += '-'\n",
        "        align2 += seq2[j - 1]\n",
        "        j -= 1\n",
        "\n",
        "    # Reverse the alignments since we traced back\n",
        "    align1 = align1[::-1]\n",
        "    align2 = align2[::-1]\n",
        "\n",
        "    # Get final alignment score\n",
        "    final_score = score_matrix[n][m]\n",
        "\n",
        "    return score_matrix, align1, align2, final_score\n",
        "\n",
        "# Test example\n",
        "seq1 = \"GATTACA\"\n",
        "seq2 = \"GCATGCU\"\n",
        "\n",
        "# Run Needleman-Wunsch algorithm\n",
        "score_matrix, alignment1, alignment2, final_score = needleman_wunsch(seq1, seq2)\n",
        "\n",
        "print(\"Score Matrix:\")\n",
        "print(score_matrix)\n",
        "\n",
        "print(\"\\nAlignment:\")\n",
        "print(alignment1)\n",
        "print(alignment2)\n",
        "\n",
        "print(\"\\nFinal Alignment Score:\", final_score)\n"
      ]
    }
  ],
  "metadata": {
    "colab": {
      "provenance": []
    },
    "kernelspec": {
      "display_name": "Python 3",
      "name": "python3"
    },
    "language_info": {
      "codemirror_mode": {
        "name": "ipython",
        "version": 3
      },
      "file_extension": ".py",
      "mimetype": "text/x-python",
      "name": "python",
      "nbconvert_exporter": "python",
      "pygments_lexer": "ipython3",
      "version": "3.11.8"
    }
  },
  "nbformat": 4,
  "nbformat_minor": 0
}
