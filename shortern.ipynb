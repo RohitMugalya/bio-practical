{
  "cells": [
    {
      "cell_type": "code",
      "execution_count": 6,
      "metadata": {
        "colab": {
          "base_uri": "https://localhost:8080/"
        },
        "id": "6_Q9wIMdNWqv",
        "outputId": "0256a859-3520-4dc7-9127-75b02afc96d2"
      },
      "outputs": [
        {
          "name": "stdout",
          "output_type": "stream",
          "text": [
            "Counter({'GCT': 4, 'CTA': 4, 'AGC': 3, 'TAG': 3, 'AGG': 1, 'GGC': 1})\n",
            "Most frequent k-mer: [('GCT', 4)]\n"
          ]
        }
      ],
      "source": [
        "from collections import Counter\n",
        "\n",
        "def find_frequent_kmer(dna_string, k):\n",
        "\n",
        "    k_mers = [dna_string[i:i+k] for i in range(len(dna_string) - k + 1)]\n",
        "    \n",
        "    k_mer_count = Counter(k_mers)\n",
        "    \n",
        "    most_frequent = k_mer_count.most_common(1)\n",
        "\n",
        "    return most_frequent\n",
        "\n",
        "dna = \"AGCTAGCTAGCTAGGCTA\"\n",
        "k = 3\n",
        "most_frequent_kmer = find_frequent_kmer(dna, k)\n",
        "print(\"Most frequent k-mer:\", most_frequent_kmer)\n"
      ]
    },
    {
      "cell_type": "code",
      "execution_count": 8,
      "metadata": {
        "colab": {
          "base_uri": "https://localhost:8080/"
        },
        "id": "JRq_aqlVOGnk",
        "outputId": "f8ffe07c-c255-4f55-8126-bf1b1de446e6"
      },
      "outputs": [
        {
          "name": "stdout",
          "output_type": "stream",
          "text": [
            "defaultdict(<class 'list'>, {'ATT': ['TTA'], 'TTA': ['TAC'], 'TAC': ['ACC'], 'ACC': ['CCA'], 'CCA': ['CAC'], 'CAC': ['ACC']})\n",
            "Hamiltonian path found: ['ATT', 'TTA', 'TAC', 'ACC', 'CCA', 'CAC']\n",
            "Reconstructed string: ATTACCAC\n"
          ]
        }
      ],
      "source": [
        "from collections import defaultdict, deque\n",
        "\n",
        "def build_overlap_graph(kmers):\n",
        "    graph = defaultdict(list)\n",
        "    for kmer in kmers:\n",
        "\n",
        "        for x in kmers:\n",
        "            if kmer != x and kmer[1:] == x[:-1]:\n",
        "                graph[kmer].append(x)\n",
        "\n",
        "    return graph\n",
        "\n",
        "# Function to find a Hamiltonian path using depth-first search (DFS)\n",
        "def find_hamiltonian_path(graph, start_node, visited, path):\n",
        "    visited.add(start_node)\n",
        "    path.append(start_node)\n",
        "\n",
        "    if len(visited) == len(graph):\n",
        "        return True\n",
        "\n",
        "    for neighbor in graph[start_node]:\n",
        "        if neighbor not in visited:\n",
        "            if find_hamiltonian_path(graph, neighbor, visited, path):\n",
        "                return True\n",
        "\n",
        "    path.pop()\n",
        "    visited.remove(start_node)\n",
        "    return False\n",
        "\n",
        "# Function to reconstruct the string from the Hamiltonian path\n",
        "def reconstruct_from_path(path):\n",
        "    # Start with the first k-mer\n",
        "    reconstructed_string = path[0]\n",
        "\n",
        "    # Append only the last character of each subsequent k-mer\n",
        "    for kmer in path[1:]:\n",
        "        reconstructed_string += kmer[-1]\n",
        "\n",
        "    return reconstructed_string\n",
        "kmers = [\"ATT\", \"TTA\", \"TAC\", \"ACC\", \"CCA\", \"CAC\"]\n",
        "\n",
        "graph = build_overlap_graph(kmers)\n",
        "print(graph)\n",
        "\n",
        "# Find the Hamiltonian path\n",
        "start_node = kmers[0]  # Start from the first k-mer\n",
        "path = []\n",
        "visited = set()\n",
        "\n",
        "if find_hamiltonian_path(graph, start_node, visited, path):\n",
        "    print(\"Hamiltonian path found:\", path)\n",
        "\n",
        "    # Reconstruct the original sequence from the path\n",
        "    reconstructed_string = reconstruct_from_path(path)\n",
        "    print(\"Reconstructed string:\", reconstructed_string)\n",
        "else:\n",
        "    print(\"No Hamiltonian path found.\")\n"
      ]
    },
    {
      "cell_type": "code",
      "execution_count": 17,
      "metadata": {
        "colab": {
          "base_uri": "https://localhost:8080/"
        },
        "id": "GAjuGHFTOUHh",
        "outputId": "64d0369e-d1c6-4ef0-e0ba-ec2986c0e79a"
      },
      "outputs": [
        {
          "name": "stdout",
          "output_type": "stream",
          "text": [
            "De Bruijn Graph:\n",
            "AT -> TT\n",
            "TT -> TA\n",
            "TA -> AC\n",
            "AC -> CC\n",
            "CC -> CA\n",
            "CA -> AC\n"
          ]
        }
      ],
      "source": [
        "from collections import defaultdict\n",
        "\n",
        "# Function to construct the de Bruijn graph from k-mers\n",
        "def de_bruijn_graph(kmers):\n",
        "    graph = defaultdict(list)\n",
        "\n",
        "    for kmer in kmers:\n",
        "        prefix = kmer[:-1]  # Prefix of length k-1\n",
        "        suffix = kmer[1:]   # Suffix of length k-1\n",
        "        graph[prefix].append(suffix)\n",
        "\n",
        "    return graph\n",
        "\n",
        "# Function to print the de Bruijn graph\n",
        "def print_de_bruijn_graph(graph):\n",
        "    for prefix, suffixes in graph.items():\n",
        "        for suffix in suffixes:\n",
        "            print(f\"{prefix} -> {suffix}\")\n",
        "\n",
        "# Example usage\n",
        "kmers = [\"ATT\", \"TTA\", \"TAC\", \"ACC\", \"CCA\", \"CAC\"]\n",
        "\n",
        "# Build the de Bruijn graph\n",
        "graph = de_bruijn_graph(kmers)\n",
        "\n",
        "# Print the graph\n",
        "print(\"De Bruijn Graph:\")\n",
        "print_de_bruijn_graph(graph)\n"
      ]
    },
    {
      "cell_type": "code",
      "execution_count": null,
      "metadata": {
        "colab": {
          "base_uri": "https://localhost:8080/"
        },
        "id": "5DKz-dCaOXYY",
        "outputId": "a61dac64-eec8-4a5f-9401-c849793fd831"
      },
      "outputs": [
        {
          "name": "stdout",
          "output_type": "stream",
          "text": [
            "Cyclic peptides found:\n",
            "IKW\n",
            "IQW\n",
            "IWK\n",
            "IWQ\n",
            "LKW\n",
            "LQW\n",
            "LWK\n",
            "LWQ\n",
            "KIW\n",
            "KLW\n",
            "KWI\n",
            "KWL\n",
            "QIW\n",
            "QLW\n",
            "QWI\n",
            "QWL\n",
            "WIK\n",
            "WIQ\n",
            "WLK\n",
            "WLQ\n",
            "WKI\n",
            "WKL\n",
            "WQI\n",
            "WQL\n"
          ]
        }
      ],
      "source": [
        "from itertools import permutations\n",
        "\n",
        "def peptide_mass(peptide, mass_table):\n",
        "    return sum(mass_table[aa] for aa in peptide)\n",
        "\n",
        "def branch_and_bound(spectrum, mass_table):\n",
        "    parent_mass = max(spectrum)\n",
        "    peptides = [\"\"]\n",
        "    results = []\n",
        "\n",
        "    while peptides:\n",
        "        new_peptides = []\n",
        "        for peptide in peptides:\n",
        "            for aa in mass_table:\n",
        "                new_peptide = peptide + aa\n",
        "                mass = peptide_mass(new_peptide, mass_table)\n",
        "\n",
        "                if mass in spectrum:\n",
        "                    new_peptides.append(new_peptide)\n",
        "                    if mass == parent_mass:\n",
        "                        results.append(new_peptide)\n",
        "        \n",
        "        peptides = new_peptides\n",
        "\n",
        "    return results\n",
        "\n",
        "# Example: Monoisotopic mass table for a few amino acids\n",
        "mass_table = {\n",
        "    'G': 57, 'A': 71, 'S': 87, 'P': 97, 'V': 99,\n",
        "    'T': 101, 'C': 103, 'I': 113, 'L': 113, 'N': 114,\n",
        "    'D': 115, 'K': 128, 'Q': 128, 'E': 129, 'M': 131,\n",
        "    'H': 137, 'F': 147, 'R': 156, 'Y': 163, 'W': 186\n",
        "}\n",
        "\n",
        "# Example spectrum (replace with real spectrum data)\n",
        "spectrum = [0, 113, 128, 186, 241, 299, 314, 427]\n",
        " # Example masses\n",
        "\n",
        "print(branch_and_bound(spectrum, mass_table))"
      ]
    },
    {
      "cell_type": "code",
      "execution_count": null,
      "metadata": {
        "colab": {
          "base_uri": "https://localhost:8080/"
        },
        "id": "gy_nsSzwQGgX",
        "outputId": "36981668-04ba-4a52-f488-85ea1d8cf963"
      },
      "outputs": [
        {
          "name": "stdout",
          "output_type": "stream",
          "text": [
            "Collecting biopython\n",
            "  Downloading biopython-1.85-cp311-cp311-manylinux_2_17_x86_64.manylinux2014_x86_64.whl.metadata (13 kB)\n",
            "Requirement already satisfied: numpy in /usr/local/lib/python3.11/dist-packages (from biopython) (1.26.4)\n",
            "Downloading biopython-1.85-cp311-cp311-manylinux_2_17_x86_64.manylinux2014_x86_64.whl (3.3 MB)\n",
            "\u001b[2K   \u001b[90m━━━━━━━━━━━━━━━━━━━━━━━━━━━━━━━━━━━━━━━━\u001b[0m \u001b[32m3.3/3.3 MB\u001b[0m \u001b[31m27.3 MB/s\u001b[0m eta \u001b[36m0:00:00\u001b[0m\n",
            "\u001b[?25hInstalling collected packages: biopython\n",
            "Successfully installed biopython-1.85\n"
          ]
        }
      ],
      "source": [
        "!pip install biopython"
      ]
    },
    {
      "cell_type": "code",
      "execution_count": null,
      "metadata": {
        "colab": {
          "base_uri": "https://localhost:8080/"
        },
        "id": "_HAUqZgvP27c",
        "outputId": "50a06926-7b60-461c-b0ae-20b09c57b2bf"
      },
      "outputs": [
        {
          "name": "stdout",
          "output_type": "stream",
          "text": [
            "*Alignment*\n",
            "Sequence: gi|2556671748|gb|CP130814.1| Mycobacterium tuberculosis strain MTb-Oman-321528 chromosome, complete genome\n",
            "Length: 4325733\n",
            "Score: 50.0\n",
            "E-value: 0.194138\n",
            "*Alignment*\n",
            "Sequence: gi|2556671748|gb|CP130814.1| Mycobacterium tuberculosis strain MTb-Oman-321528 chromosome, complete genome\n",
            "Length: 4325733\n",
            "Score: 50.0\n",
            "E-value: 0.194138\n",
            "*Alignment*\n",
            "Sequence: gi|2556671656|gb|CP130773.1| Mycobacterium tuberculosis strain MTb-Oman-3214236 chromosome, complete genome\n",
            "Length: 4340326\n",
            "Score: 48.0\n",
            "E-value: 0.67761\n",
            "*Alignment*\n",
            "Sequence: gi|2556671656|gb|CP130773.1| Mycobacterium tuberculosis strain MTb-Oman-3214236 chromosome, complete genome\n",
            "Length: 4340326\n",
            "Score: 48.0\n",
            "E-value: 0.67761\n",
            "*Alignment*\n",
            "Sequence: gi|2556671674|gb|CP130787.1| Mycobacterium tuberculosis strain MTb-Oman-3213343 chromosome, complete genome\n",
            "Length: 4385227\n",
            "Score: 48.0\n",
            "E-value: 0.67761\n",
            "*Alignment*\n",
            "Sequence: gi|2556671674|gb|CP130787.1| Mycobacterium tuberculosis strain MTb-Oman-3213343 chromosome, complete genome\n",
            "Length: 4385227\n",
            "Score: 48.0\n",
            "E-value: 0.67761\n",
            "*Alignment*\n",
            "Sequence: gi|2556671652|gb|CP130758.1| Mycobacterium tuberculosis strain MTb-Oman-3215873 chromosome, complete genome\n",
            "Length: 4516435\n",
            "Score: 48.0\n",
            "E-value: 0.67761\n",
            "*Alignment*\n",
            "Sequence: gi|2556671652|gb|CP130758.1| Mycobacterium tuberculosis strain MTb-Oman-3215873 chromosome, complete genome\n",
            "Length: 4516435\n",
            "Score: 48.0\n",
            "E-value: 0.67761\n",
            "*Alignment*\n",
            "Sequence: gi|2814258132|gb|CP132511.1| Ornithobacterium rhinotracheale strain AT-1283-S23-11-1 chromosome\n",
            "Length: 2373450\n",
            "Score: 48.0\n",
            "E-value: 0.67761\n",
            "*Alignment*\n",
            "Sequence: gi|2556671632|gb|CP130755.1| Mycobacterium tuberculosis strain MTb-Oman-3216574 chromosome, complete genome\n",
            "Length: 4347532\n",
            "Score: 48.0\n",
            "E-value: 0.67761\n",
            "*Alignment*\n",
            "Sequence: gi|2556671632|gb|CP130755.1| Mycobacterium tuberculosis strain MTb-Oman-3216574 chromosome, complete genome\n",
            "Length: 4347532\n",
            "Score: 48.0\n",
            "E-value: 0.67761\n",
            "*Alignment*\n",
            "Sequence: gi|2556671658|gb|CP130777.1| Mycobacterium tuberculosis strain MTb-Oman-3213964 chromosome, complete genome\n",
            "Length: 4299181\n",
            "Score: 48.0\n",
            "E-value: 0.67761\n",
            "*Alignment*\n",
            "Sequence: gi|2556671658|gb|CP130777.1| Mycobacterium tuberculosis strain MTb-Oman-3213964 chromosome, complete genome\n",
            "Length: 4299181\n",
            "Score: 48.0\n",
            "E-value: 0.67761\n",
            "*Alignment*\n",
            "Sequence: gi|2556671633|gb|CP130767.1| Mycobacterium tuberculosis strain MTb-Oman-3214642 chromosome, complete genome\n",
            "Length: 4360219\n",
            "Score: 48.0\n",
            "E-value: 0.67761\n",
            "*Alignment*\n",
            "Sequence: gi|2556671633|gb|CP130767.1| Mycobacterium tuberculosis strain MTb-Oman-3214642 chromosome, complete genome\n",
            "Length: 4360219\n",
            "Score: 48.0\n",
            "E-value: 0.67761\n",
            "*Alignment*\n",
            "Sequence: gi|2556671734|gb|CP130802.1| Mycobacterium tuberculosis strain MTb-Oman-3212387 chromosome, complete genome\n",
            "Length: 4356222\n",
            "Score: 48.0\n",
            "E-value: 0.67761\n",
            "*Alignment*\n",
            "Sequence: gi|2556671734|gb|CP130802.1| Mycobacterium tuberculosis strain MTb-Oman-3212387 chromosome, complete genome\n",
            "Length: 4356222\n",
            "Score: 48.0\n",
            "E-value: 0.67761\n",
            "*Alignment*\n",
            "Sequence: gi|2556671663|gb|CP130782.1| Mycobacterium tuberculosis strain MTb-Oman-3213573 chromosome, complete genome\n",
            "Length: 4315621\n",
            "Score: 48.0\n",
            "E-value: 0.67761\n",
            "*Alignment*\n",
            "Sequence: gi|2556671663|gb|CP130782.1| Mycobacterium tuberculosis strain MTb-Oman-3213573 chromosome, complete genome\n",
            "Length: 4315621\n",
            "Score: 48.0\n",
            "E-value: 0.67761\n",
            "*Alignment*\n",
            "Sequence: gi|2556671676|gb|CP130791.1| Mycobacterium tuberculosis strain MTb-Oman-3213249 chromosome, complete genome\n",
            "Length: 4346162\n",
            "Score: 48.0\n",
            "E-value: 0.67761\n",
            "*Alignment*\n",
            "Sequence: gi|2556671676|gb|CP130791.1| Mycobacterium tuberculosis strain MTb-Oman-3213249 chromosome, complete genome\n",
            "Length: 4346162\n",
            "Score: 48.0\n",
            "E-value: 0.67761\n",
            "*Alignment*\n",
            "Sequence: gi|2556671685|gb|CP130795.1| Mycobacterium tuberculosis strain MTb-Oman-3213123 chromosome, complete genome\n",
            "Length: 4206660\n",
            "Score: 48.0\n",
            "E-value: 0.67761\n",
            "*Alignment*\n",
            "Sequence: gi|2556671685|gb|CP130795.1| Mycobacterium tuberculosis strain MTb-Oman-3213123 chromosome, complete genome\n",
            "Length: 4206660\n",
            "Score: 48.0\n",
            "E-value: 0.67761\n",
            "*Alignment*\n",
            "Sequence: gi|2556671741|gb|CP130811.1| Mycobacterium tuberculosis strain MTb-Oman-321857 chromosome, complete genome\n",
            "Length: 4360571\n",
            "Score: 48.0\n",
            "E-value: 0.67761\n",
            "*Alignment*\n",
            "Sequence: gi|2556671741|gb|CP130811.1| Mycobacterium tuberculosis strain MTb-Oman-321857 chromosome, complete genome\n",
            "Length: 4360571\n",
            "Score: 48.0\n",
            "E-value: 0.67761\n",
            "*Alignment*\n",
            "Sequence: gi|2556671644|gb|CP130756.1| Mycobacterium tuberculosis strain MTb-Oman-3216462 chromosome, complete genome\n",
            "Length: 4459087\n",
            "Score: 48.0\n",
            "E-value: 0.67761\n",
            "*Alignment*\n",
            "Sequence: gi|2556671644|gb|CP130756.1| Mycobacterium tuberculosis strain MTb-Oman-3216462 chromosome, complete genome\n",
            "Length: 4459087\n",
            "Score: 48.0\n",
            "E-value: 0.67761\n",
            "*Alignment*\n",
            "Sequence: gi|1898641431|ref|XM_031288922.2| PREDICTED: Sander lucioperca uncharacterized si:ch73-100l22.3 (si:ch73-100l22.3), transcript variant X1, mRNA\n",
            "Length: 4939\n",
            "Score: 45.0\n",
            "E-value: 8.25498\n",
            "*Alignment*\n",
            "Sequence: gi|1898641432|ref|XM_031288923.2| PREDICTED: Sander lucioperca uncharacterized si:ch73-100l22.3 (si:ch73-100l22.3), transcript variant X2, mRNA\n",
            "Length: 4837\n",
            "Score: 45.0\n",
            "E-value: 8.25498\n",
            "*Alignment*\n",
            "Sequence: gi|2133611024|ref|XM_045093817.1| PREDICTED: Hordeum vulgare subsp. vulgare IAA-amino acid hydrolase ILR1-like 4 (LOC123399401), mRNA\n",
            "Length: 1683\n",
            "Score: 45.0\n",
            "E-value: 8.25498\n",
            "*Alignment*\n",
            "Sequence: gi|1898641433|ref|XM_031288924.2| PREDICTED: Sander lucioperca uncharacterized si:ch73-100l22.3 (si:ch73-100l22.3), transcript variant X3, mRNA\n",
            "Length: 4199\n",
            "Score: 45.0\n",
            "E-value: 8.25498\n",
            "*Alignment*\n",
            "Sequence: gi|7230396|gb|AF136829.1|AF136829 Zea mays clone g elongation factor 1 alpha mRNA, complete cds\n",
            "Length: 1592\n",
            "Score: 45.0\n",
            "E-value: 8.25498\n",
            "*Alignment*\n",
            "Sequence: gi|2801847046|emb|OZ180149.1| Melanogrammus aeglefinus genome assembly, chromosome: 17\n",
            "Length: 22297584\n",
            "Score: 45.0\n",
            "E-value: 8.25498\n",
            "*Alignment*\n",
            "Sequence: gi|2801847046|emb|OZ180149.1| Melanogrammus aeglefinus genome assembly, chromosome: 17\n",
            "Length: 22297584\n",
            "Score: 45.0\n",
            "E-value: 8.25498\n",
            "*Alignment*\n",
            "Sequence: gi|2397088552|ref|XM_052558874.1| PREDICTED: Carassius gibelio protein unc-50 homolog (LOC127959601), transcript variant X1, mRNA\n",
            "Length: 1245\n",
            "Score: 44.0\n",
            "E-value: 8.25498\n",
            "*Alignment*\n",
            "Sequence: gi|1604806656|ref|XR_003691058.1| PREDICTED: Perca flavescens uncharacterized LOC114546469 (LOC114546469), ncRNA\n",
            "Length: 1406\n",
            "Score: 44.0\n",
            "E-value: 8.25498\n",
            "*Alignment*\n",
            "Sequence: gi|2397088554|ref|XM_052558875.1| PREDICTED: Carassius gibelio protein unc-50 homolog (LOC127959601), transcript variant X2, mRNA\n",
            "Length: 1242\n",
            "Score: 44.0\n",
            "E-value: 8.25498\n",
            "*Alignment*\n",
            "Sequence: gi|2276576666|ref|XM_049578624.1| PREDICTED: Epinephelus fuscoguttatus SDS3 homolog, SIN3A corepressor complex component (suds3), transcript variant X3, mRNA\n",
            "Length: 2093\n",
            "Score: 44.0\n",
            "E-value: 8.25498\n"
          ]
        }
      ],
      "source": [
        "from Bio.Blast import NCBIWWW\n",
        "from Bio.Blast import NCBIXML\n",
        "\n",
        "def blast_sequence(seq):\n",
        "    result_handle = NCBIWWW.qblast(\"blastn\", \"nt\", seq)\n",
        "    blast_record = NCBIXML.read(result_handle)\n",
        "\n",
        "    for alignment in blast_record.alignments:\n",
        "        for hsp in alignment.hsps:\n",
        "            print(\"*Alignment*\")\n",
        "            print(\"Sequence:\", alignment.title)\n",
        "            print(\"Length:\", alignment.length)\n",
        "            print(\"Score:\", hsp.score)\n",
        "            print(\"E-value:\", hsp.expect)\n",
        "\n",
        "query_seq = \"ATGCGTACGTAGCTAGCTGACTGATCGTAGCTAGCTGACGTAGCTAGCATCGTACG\"\n",
        "blast_sequence(query_seq)\n"
      ]
    },
    {
      "cell_type": "code",
      "execution_count": null,
      "metadata": {
        "colab": {
          "base_uri": "https://localhost:8080/"
        },
        "id": "ls7C7Kk7POJh",
        "outputId": "537a4b27-e48d-4915-c656-963505ca09f4"
      },
      "outputs": [
        {
          "name": "stdout",
          "output_type": "stream",
          "text": [
            "Identified variants:\n",
            "SNP at position 5: A -> T\n",
            "SNP at position 6: C -> G\n",
            "Deletion at position 12: T deleted\n"
          ]
        }
      ],
      "source": [
        "def variant_calling(ref, sample):\n",
        "    i, j, variants = 0, 0, []\n",
        "\n",
        "    while i < len(ref) or j < len(sample):\n",
        "        if i < len(ref) and j < len(sample) and ref[i] == sample[j]:\n",
        "            i, j = i + 1, j + 1\n",
        "        elif i < len(ref) and j < len(sample):\n",
        "            variants.append((\"SNP\", i + 1, ref[i], sample[j]))\n",
        "            i, j = i + 1, j + 1\n",
        "        elif i < len(ref):\n",
        "            variants.append((\"Deletion\", i + 1, ref[i]))\n",
        "            i += 1\n",
        "        else:\n",
        "            variants.append((\"Insertion\", j + 1, sample[j]))\n",
        "            j += 1\n",
        "\n",
        "    return variants\n",
        "\n",
        "# Example usage\n",
        "ref = \"ACGTACGTACGT\"\n",
        "sample = \"ACGTTGGTACG\"\n",
        "\n",
        "for v in variant_calling(ref, sample):\n",
        "    if v[0] == \"SNP\":\n",
        "        print(f\"SNP at {v[1]}: {v[2]} -> {v[3]}\")\n",
        "    elif v[0] == \"Insertion\":\n",
        "        print(f\"Insertion at {v[1]}: {v[2]} inserted\")\n",
        "    else:\n",
        "        print(f\"Deletion at {v[1]}: {v[2]} deleted\")"
      ]
    },
    {
      "cell_type": "code",
      "execution_count": 23,
      "metadata": {
        "colab": {
          "base_uri": "https://localhost:8080/",
          "height": 848
        },
        "id": "2TD7p4vINkyq",
        "outputId": "7ddb5786-2714-4209-b398-1c6b06d202b0"
      },
      "outputs": [
        {
          "data": {
            "image/png": "[encoded data removed]",
            "text/plain": [
              "<Figure size 640x480 with 1 Axes>"
            ]
          },
          "metadata": {},
          "output_type": "display_data"
        }
      ],
      "source": [
        "import matplotlib.pyplot as plt\n",
        "import numpy as np\n",
        "\n",
        "def dotplot(seq1, seq2):\n",
        "    matrix = np.zeros((len(seq1), len(seq2)))\n",
        "    for i in range(len(seq1)):\n",
        "        for j in range(len(seq2)):\n",
        "            if seq1[i] == seq2[j]:\n",
        "                matrix[i][j] = 1\n",
        "\n",
        "    plt.imshow(matrix)\n",
        "    plt.xticks(range(len(seq2)), seq2)\n",
        "    plt.yticks(range(len(seq1)), seq1)\n",
        "    plt.show()\n",
        "\n",
        "seq1 = \"AGCTAG\"\n",
        "seq2 = \"TCAGCT\"\n",
        "dotplot(seq1, seq2)"
      ]
    },
    {
      "cell_type": "code",
      "execution_count": null,
      "metadata": {
        "colab": {
          "base_uri": "https://localhost:8080/"
        },
        "id": "D6vgzPvSPQ_o",
        "outputId": "d8923c7e-637f-49c0-ba70-6df7f5458267"
      },
      "outputs": [
        {
          "name": "stdout",
          "output_type": "stream",
          "text": [
            "Match/Mismatch score between 'AGCTTAGC' and 'AGCTCAGC': 6\n"
          ]
        }
      ],
      "source": [
        "def match_mismatch_score(seq1, seq2, match_score=1, mismatch_penalty=-1):\n",
        "    \"\"\"\n",
        "    Function to compute the match/mismatch score between two sequences.\n",
        "\n",
        "    Parameters:\n",
        "    - seq1: First sequence (string)\n",
        "    - seq2: Second sequence (string)\n",
        "    - match_score: Score for a match (default = 1)\n",
        "    - mismatch_penalty: Penalty for a mismatch (default = -1)\n",
        "\n",
        "    Returns:\n",
        "    - total_score: Total score based on match/mismatch\n",
        "    \"\"\"\n",
        "    if len(seq1) != len(seq2):\n",
        "        raise ValueError(\"Sequences must be of equal length\")\n",
        "\n",
        "    total_score = 0\n",
        "\n",
        "    # Compare each base pair in the aligned sequences\n",
        "    for base1, base2 in zip(seq1, seq2):\n",
        "        if base1 == base2:\n",
        "            total_score += match_score  # Match score\n",
        "        else:\n",
        "            total_score += mismatch_penalty  # Mismatch penalty\n",
        "\n",
        "    return total_score\n",
        "\n",
        "# Example usage\n",
        "seq1 = \"AGCTTAGC\"\n",
        "seq2 = \"AGCTCAGC\"\n",
        "\n",
        "# Calculate the match/mismatch score with default scoring scheme\n",
        "score = match_mismatch_score(seq1, seq2)\n",
        "\n",
        "print(f\"Match/Mismatch score between '{seq1}' and '{seq2}': {score}\")\n"
      ]
    },
    {
      "cell_type": "code",
      "execution_count": 29,
      "metadata": {
        "colab": {
          "base_uri": "https://localhost:8080/"
        },
        "id": "DIR3_XLpNnms",
        "outputId": "30aebde6-df40-4667-b136-170c6069b701"
      },
      "outputs": [
        {
          "name": "stdout",
          "output_type": "stream",
          "text": [
            "[[  0  -2  -4  -6  -8 -10 -12 -14 -16]\n",
            " [ -2   2   0  -2  -4  -6  -8 -10 -12]\n",
            " [ -4   0   1  -1  -3  -5  -7  -6  -8]\n",
            " [ -6  -2  -1   3   1  -1  -3  -5  -4]\n",
            " [ -8  -4  -3   1   2   0   1  -1  -3]\n",
            " [-10  -6  -5  -1   0   4   2   0   1]\n",
            " [-12  -8  -7  -3  -2   2   6   4   2]\n",
            " [-14 -10  -9  -5  -4   0   4   8   6]\n",
            " [-16 -12 -11  -7  -6  -2   2   6  10]]\n",
            "Score: 10\n",
            "CGATATGA: CGATATGA\n",
            "CCACATGA: CCACATGA\n"
          ]
        }
      ],
      "source": [
        "import numpy as np\n",
        "\n",
        "def needleman_wunsch(s1, s2, m=2, mm=-1, g=-2):\n",
        "    r, c = len(s1) + 1, len(s2) + 1\n",
        "    M = np.zeros((r, c), int)\n",
        "    M[:, 0], M[0, :] = np.arange(r) * g, np.arange(c) * g\n",
        "\n",
        "    for i in range(1, r):\n",
        "        for j in range(1, c):\n",
        "            M[i, j] = max(M[i-1, j-1] + (m if s1[i-1] == s2[j-1] else mm), M[i-1, j] + g, M[i, j-1] + g)\n",
        "\n",
        "    a1, a2, i, j = \"\", \"\", len(s1), len(s2)\n",
        "    while i or j:\n",
        "        if i and j and M[i, j] == M[i-1, j-1] + (m if s1[i-1] == s2[j-1] else mm):\n",
        "            a1, a2, i, j = s1[i-1] + a1, s2[j-1] + a2, i-1, j-1\n",
        "        elif i and M[i, j] == M[i-1, j] + g:\n",
        "            a1, a2, i = s1[i-1] + a1, \"-\" + a2, i-1\n",
        "        else:\n",
        "            a1, a2, j = \"-\" + a1, s2[j-1] + a2, j-1\n",
        "    print(M)\n",
        "    return a1, a2, M[-1, -1]\n",
        "\n",
        "s1, s2 = \"CGATATGA\", \"CCACATGA\"\n",
        "a1, a2, score = needleman_wunsch(s1, s2)\n",
        "print(f\"Score: {score}\\n{s1}: {a1}\\n{s2}: {a2}\")"
      ]
    }
  ],
  "metadata": {
    "colab": {
      "provenance": []
    },
    "kernelspec": {
      "display_name": "Python 3",
      "name": "python3"
    },
    "language_info": {
      "codemirror_mode": {
        "name": "ipython",
        "version": 3
      },
      "file_extension": ".py",
      "mimetype": "text/x-python",
      "name": "python",
      "nbconvert_exporter": "python",
      "pygments_lexer": "ipython3",
      "version": "3.11.9"
    }
  },
  "nbformat": 4,
  "nbformat_minor": 0
}
